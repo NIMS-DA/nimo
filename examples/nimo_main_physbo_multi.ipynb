{
 "cells": [
  {
   "cell_type": "markdown",
   "id": "e2660de2-5034-4e9d-b67f-b66d7d0903b4",
   "metadata": {},
   "source": [
    "# NIMOハンズオン (PHYSBO 複数提案)"
   ]
  },
  {
   "cell_type": "code",
   "execution_count": 1,
   "id": "437d7fe2-883b-4d6d-9300-35012aa3d19e",
   "metadata": {},
   "outputs": [],
   "source": [
    "import nimo\n",
    "import csv"
   ]
  },
  {
   "cell_type": "markdown",
   "id": "60202952-7761-451b-841c-0c92e84640d4",
   "metadata": {},
   "source": [
    "### 結果を格納する場所を作成"
   ]
  },
  {
   "cell_type": "code",
   "execution_count": 2,
   "id": "bf815fc3-fff9-4670-935c-e10dba5bdb1e",
   "metadata": {},
   "outputs": [],
   "source": [
    "res_history = nimo.history(input_file = \"candidates.csv\",\n",
    "                             num_objectives = 1)"
   ]
  },
  {
   "cell_type": "markdown",
   "id": "5922fb0a-682d-4815-bb05-9e621f131d95",
   "metadata": {},
   "source": [
    "## 1st loop 実験条件をランダムに複数提案"
   ]
  },
  {
   "cell_type": "code",
   "execution_count": 3,
   "id": "76f5ce69-dce6-48cf-be7f-d508b6c2f715",
   "metadata": {},
   "outputs": [
    {
     "name": "stdout",
     "output_type": "stream",
     "text": [
      "Start selection of proposals by RE!\n",
      "Proposals\n",
      "###\n",
      "number = 1\n",
      "actions =  76\n",
      "proposal =  [2.4 4. ]\n",
      "###\n",
      "###\n",
      "number = 2\n",
      "actions =  2\n",
      "proposal =  [0.  0.8]\n",
      "###\n",
      "###\n",
      "number = 3\n",
      "actions =  36\n",
      "proposal =  [1.2 1.2]\n",
      "###\n",
      "###\n",
      "number = 4\n",
      "actions =  17\n",
      "proposal =  [0.4 2.4]\n",
      "###\n",
      "###\n",
      "number = 5\n",
      "actions =  50\n",
      "proposal =  [1.6 2.4]\n",
      "###\n",
      "###\n",
      "number = 6\n",
      "actions =  98\n",
      "proposal =  [3.2 4. ]\n",
      "###\n",
      "Finish selection of proposals!\n"
     ]
    },
    {
     "data": {
      "text/plain": [
       "<nimo.nimo_modules.selection at 0x174d33f50>"
      ]
     },
     "execution_count": 3,
     "metadata": {},
     "output_type": "execute_result"
    }
   ],
   "source": [
    "nimo.selection(method = \"RE\",\n",
    "            input_file = \"candidates.csv\",\n",
    "            output_file = \"proposals.csv\",\n",
    "            num_objectives = 1,\n",
    "            num_proposals = 6)"
   ]
  },
  {
   "cell_type": "markdown",
   "id": "815f7270-818b-4d4d-b402-00ba4abfb644",
   "metadata": {},
   "source": [
    "### 提案された実験条件の確認"
   ]
  },
  {
   "cell_type": "code",
   "execution_count": 4,
   "id": "ec7af2a7-fb04-41e9-80bb-4551b5baa7da",
   "metadata": {},
   "outputs": [
    {
     "name": "stdout",
     "output_type": "stream",
     "text": [
      "proposed condition = [2.4, 4.0]\n",
      "proposed condition = [0.0, 0.8]\n",
      "proposed condition = [1.2, 1.2]\n",
      "proposed condition = [0.4, 2.4]\n",
      "proposed condition = [1.6, 2.4]\n",
      "proposed condition = [3.2, 4.0]\n"
     ]
    }
   ],
   "source": [
    "conditions = nimo.proposed_conditions(input_file = \"proposals.csv\")\n",
    "\n",
    "for i in range(len(conditions)):\n",
    "    print(\"proposed condition =\", conditions[i])"
   ]
  },
  {
   "cell_type": "markdown",
   "id": "872e6ae9-6a8e-4dcc-803b-bd5a69f68607",
   "metadata": {},
   "source": [
    "### 目的関数の計算(本来であれば，実験orシミュレーション)"
   ]
  },
  {
   "cell_type": "code",
   "execution_count": 5,
   "id": "ebe1af37-f062-496b-a7d4-c069c95a1982",
   "metadata": {},
   "outputs": [
    {
     "name": "stdout",
     "output_type": "stream",
     "text": [
      "objective function value = 21.76\n",
      "objective function value = 0.64\n",
      "objective function value = 2.88\n",
      "objective function value = 5.92\n",
      "objective function value = 8.32\n",
      "objective function value = 26.24\n"
     ]
    }
   ],
   "source": [
    "y = []\n",
    "\n",
    "for i in range(len(conditions)):\n",
    "\n",
    "    x1 = conditions[i][0]\n",
    "    x2 = conditions[i][1]\n",
    "\n",
    "    y.append(round(( x1 * x1 + x2 * x2 ), 6))\n",
    "\n",
    "    print(\"objective function value =\", y[i])"
   ]
  },
  {
   "cell_type": "markdown",
   "id": "aeb5a32e-1afe-4d57-8d9d-50bd33601567",
   "metadata": {},
   "source": [
    "### 結果をcandidates.csvに記載"
   ]
  },
  {
   "cell_type": "code",
   "execution_count": 6,
   "id": "9c2e6bc1-5db6-4517-82b6-6d4f17521530",
   "metadata": {},
   "outputs": [
    {
     "name": "stdout",
     "output_type": "stream",
     "text": [
      "Start update candidates file!\n",
      "Finish update candidates file!\n"
     ]
    },
    {
     "data": {
      "text/plain": [
       "<nimo.nimo_modules.output_update at 0x175053f50>"
      ]
     },
     "execution_count": 6,
     "metadata": {},
     "output_type": "execute_result"
    }
   ],
   "source": [
    "nimo.output_update(input_file = \"proposals.csv\",\n",
    "                output_file = \"candidates.csv\",\n",
    "                num_objectives = 1,\n",
    "                objective_values = y)"
   ]
  },
  {
   "cell_type": "markdown",
   "id": "d1ebbf40-5813-468e-aa65-a3650ba1ce13",
   "metadata": {},
   "source": [
    "### 可視化用に結果を保存"
   ]
  },
  {
   "cell_type": "code",
   "execution_count": 7,
   "id": "efb8e1ff-5102-443a-9f9a-516659c595a9",
   "metadata": {},
   "outputs": [],
   "source": [
    "res_history = nimo.history(input_file = \"candidates.csv\",\n",
    "                                 num_objectives = 1,\n",
    "                                 itt = 0,\n",
    "                                 history_file = res_history)"
   ]
  },
  {
   "cell_type": "markdown",
   "id": "f99a61db-d063-4c29-be93-c155a4cbcdf1",
   "metadata": {},
   "source": [
    "## 2nd loop 実験条件をベイズ最適化により複数提案"
   ]
  },
  {
   "cell_type": "code",
   "execution_count": 8,
   "id": "fa02971e-2623-447e-a443-1aee22ef8f24",
   "metadata": {},
   "outputs": [
    {
     "name": "stdout",
     "output_type": "stream",
     "text": [
      "Start selection of proposals by PHYSBO!\n",
      "Start the initial hyper parameter searching ...\n",
      "Done\n",
      "\n",
      "Start the hyper parameter learning ...\n",
      "0 -th epoch marginal likelihood 18.101012878659603\n",
      "50 -th epoch marginal likelihood 17.99328040834576\n",
      "100 -th epoch marginal likelihood 17.902795364973393\n",
      "150 -th epoch marginal likelihood 17.82747093378075\n",
      "200 -th epoch marginal likelihood 17.76484994188765\n",
      "250 -th epoch marginal likelihood 17.712837657773758\n",
      "300 -th epoch marginal likelihood 17.66967222632633\n",
      "350 -th epoch marginal likelihood 17.633874537073496\n",
      "400 -th epoch marginal likelihood 17.604202569867915\n",
      "450 -th epoch marginal likelihood 17.57961255712642\n",
      "500 -th epoch marginal likelihood 17.559226587517255\n",
      "Done\n",
      "\n",
      "0002-th multiple probe search (EI)\n",
      "Proposals\n",
      "###\n",
      "number = 1\n",
      "actions =  11\n",
      "proposal =  [0.4 0. ]\n",
      "###\n",
      "###\n",
      "number = 2\n",
      "actions =  110\n",
      "proposal =  [4. 0.]\n",
      "###\n",
      "###\n",
      "number = 3\n",
      "actions =  22\n",
      "proposal =  [0.8 0. ]\n",
      "###\n",
      "###\n",
      "number = 4\n",
      "actions =  44\n",
      "proposal =  [1.6 0. ]\n",
      "###\n",
      "###\n",
      "number = 5\n",
      "actions =  0\n",
      "proposal =  [0. 0.]\n",
      "###\n",
      "Finish selection of proposals!\n",
      "proposed condition = [0.4, 0.0]\n",
      "proposed condition = [4.0, 0.0]\n",
      "proposed condition = [0.8, 0.0]\n",
      "proposed condition = [1.6, 0.0]\n",
      "proposed condition = [0.0, 0.0]\n",
      "objective function value = 0.16\n",
      "objective function value = 16.0\n",
      "objective function value = 0.64\n",
      "objective function value = 2.56\n",
      "objective function value = 0.0\n",
      "Start update candidates file!\n",
      "Finish update candidates file!\n"
     ]
    }
   ],
   "source": [
    "nimo.selection(method = \"PHYSBO\",\n",
    "            input_file = \"candidates.csv\",\n",
    "            output_file = \"proposals.csv\",\n",
    "            num_objectives = 1,\n",
    "            num_proposals = 5,\n",
    "            minimization = True)\n",
    "\n",
    "conditions = nimo.proposed_conditions(input_file = \"proposals.csv\")\n",
    "\n",
    "for i in range(len(conditions)):\n",
    "    print(\"proposed condition =\", conditions[i])\n",
    "\n",
    "y = []\n",
    "\n",
    "for i in range(len(conditions)):\n",
    "\n",
    "    x1 = conditions[i][0]\n",
    "    x2 = conditions[i][1]\n",
    "\n",
    "    y.append(round(( x1 * x1 + x2 * x2 ), 6))\n",
    "\n",
    "    print(\"objective function value =\", y[i])\n",
    "\n",
    "nimo.output_update(input_file = \"proposals.csv\",\n",
    "                output_file = \"candidates.csv\",\n",
    "                num_objectives = 1,\n",
    "                objective_values = y)\n",
    "\n",
    "res_history = nimo.history(input_file = \"candidates.csv\",\n",
    "                                 num_objectives = 1,\n",
    "                                 itt = 1,\n",
    "                                 history_file = res_history)"
   ]
  },
  {
   "cell_type": "markdown",
   "id": "0bea4861-dae7-47e6-aa73-b5a147eb8c61",
   "metadata": {},
   "source": [
    "## 3rd loop 実験条件をベイズ最適化により複数提案"
   ]
  },
  {
   "cell_type": "code",
   "execution_count": 9,
   "id": "bf90dc6d-c29e-407f-bdf8-8ce8c55d38e6",
   "metadata": {},
   "outputs": [
    {
     "name": "stdout",
     "output_type": "stream",
     "text": [
      "Start selection of proposals by PHYSBO!\n",
      "Start the initial hyper parameter searching ...\n",
      "Done\n",
      "\n",
      "Start the hyper parameter learning ...\n",
      "0 -th epoch marginal likelihood 28.633111910822414\n",
      "50 -th epoch marginal likelihood 28.113336545908084\n",
      "100 -th epoch marginal likelihood 27.761306640800875\n",
      "150 -th epoch marginal likelihood 27.439930877113447\n",
      "200 -th epoch marginal likelihood 27.13093412451293\n",
      "250 -th epoch marginal likelihood 26.83560176975324\n",
      "300 -th epoch marginal likelihood 26.553690325322034\n",
      "350 -th epoch marginal likelihood 26.28425451309026\n",
      "400 -th epoch marginal likelihood 26.026178329532257\n",
      "450 -th epoch marginal likelihood 25.7783688204605\n",
      "500 -th epoch marginal likelihood 25.53982568933606\n",
      "Done\n",
      "\n",
      "0002-th multiple probe search (EI)\n",
      "Proposals\n",
      "###\n",
      "number = 1\n",
      "actions =  1\n",
      "proposal =  [0.  0.4]\n",
      "###\n",
      "###\n",
      "number = 2\n",
      "actions =  12\n",
      "proposal =  [0.4 0.4]\n",
      "###\n",
      "###\n",
      "number = 3\n",
      "actions =  13\n",
      "proposal =  [0.4 0.8]\n",
      "###\n",
      "###\n",
      "number = 4\n",
      "actions =  23\n",
      "proposal =  [0.8 0.4]\n",
      "###\n",
      "###\n",
      "number = 5\n",
      "actions =  3\n",
      "proposal =  [0.  1.2]\n",
      "###\n",
      "Finish selection of proposals!\n",
      "proposed condition = [0.0, 0.4]\n",
      "proposed condition = [0.4, 0.4]\n",
      "proposed condition = [0.4, 0.8]\n",
      "proposed condition = [0.8, 0.4]\n",
      "proposed condition = [0.0, 1.2]\n",
      "objective function value = 0.16\n",
      "objective function value = 0.32\n",
      "objective function value = 0.8\n",
      "objective function value = 0.8\n",
      "objective function value = 1.44\n",
      "Start update candidates file!\n",
      "Finish update candidates file!\n"
     ]
    }
   ],
   "source": [
    "nimo.selection(method = \"PHYSBO\",\n",
    "            input_file = \"candidates.csv\",\n",
    "            output_file = \"proposals.csv\",\n",
    "            num_objectives = 1,\n",
    "            num_proposals = 5,\n",
    "            minimization = True)\n",
    "\n",
    "conditions = nimo.proposed_conditions(input_file = \"proposals.csv\")\n",
    "\n",
    "for i in range(len(conditions)):\n",
    "    print(\"proposed condition =\", conditions[i])\n",
    "\n",
    "y = []\n",
    "\n",
    "for i in range(len(conditions)):\n",
    "\n",
    "    x1 = conditions[i][0]\n",
    "    x2 = conditions[i][1]\n",
    "\n",
    "    y.append(round(( x1 * x1 + x2 * x2 ), 6))\n",
    "\n",
    "    print(\"objective function value =\", y[i])\n",
    "\n",
    "nimo.output_update(input_file = \"proposals.csv\",\n",
    "                output_file = \"candidates.csv\",\n",
    "                num_objectives = 1,\n",
    "                objective_values = y)\n",
    "\n",
    "res_history = nimo.history(input_file = \"candidates.csv\",\n",
    "                                 num_objectives = 1,\n",
    "                                 itt = 2,\n",
    "                                 history_file = res_history)"
   ]
  },
  {
   "cell_type": "markdown",
   "id": "ba3ec758-8e7b-430d-9888-273c671a490a",
   "metadata": {},
   "source": [
    "## 4th loop 実験条件をベイズ最適化により複数提案"
   ]
  },
  {
   "cell_type": "code",
   "execution_count": 10,
   "id": "3f91940e-64d5-491d-be6e-560dfeb0c7de",
   "metadata": {},
   "outputs": [
    {
     "name": "stdout",
     "output_type": "stream",
     "text": [
      "Start selection of proposals by PHYSBO!\n",
      "Start the initial hyper parameter searching ...\n",
      "Done\n",
      "\n",
      "Start the hyper parameter learning ...\n",
      "0 -th epoch marginal likelihood 33.76630124615583\n",
      "50 -th epoch marginal likelihood 32.98022435212151\n",
      "100 -th epoch marginal likelihood 32.247568907911464\n",
      "150 -th epoch marginal likelihood 31.559556510262563\n",
      "200 -th epoch marginal likelihood 30.90824432496766\n",
      "250 -th epoch marginal likelihood 30.287473394553032\n",
      "300 -th epoch marginal likelihood 29.692415292651077\n",
      "350 -th epoch marginal likelihood 29.119237475405306\n",
      "400 -th epoch marginal likelihood 28.564864541544306\n",
      "450 -th epoch marginal likelihood 28.02680403932191\n",
      "500 -th epoch marginal likelihood 27.503017365518268\n",
      "Done\n",
      "\n",
      "0002-th multiple probe search (EI)\n",
      "Proposals\n",
      "###\n",
      "number = 1\n",
      "actions =  33\n",
      "proposal =  [1.2 0. ]\n",
      "###\n",
      "###\n",
      "number = 2\n",
      "actions =  24\n",
      "proposal =  [0.8 0.8]\n",
      "###\n",
      "###\n",
      "number = 3\n",
      "actions =  10\n",
      "proposal =  [0. 4.]\n",
      "###\n",
      "###\n",
      "number = 4\n",
      "actions =  14\n",
      "proposal =  [0.4 1.2]\n",
      "###\n",
      "###\n",
      "number = 5\n",
      "actions =  34\n",
      "proposal =  [1.2 0.4]\n",
      "###\n",
      "Finish selection of proposals!\n",
      "proposed condition = [1.2, 0.0]\n",
      "proposed condition = [0.8, 0.8]\n",
      "proposed condition = [0.0, 4.0]\n",
      "proposed condition = [0.4, 1.2]\n",
      "proposed condition = [1.2, 0.4]\n",
      "objective function value = 1.44\n",
      "objective function value = 1.28\n",
      "objective function value = 16.0\n",
      "objective function value = 1.6\n",
      "objective function value = 1.6\n",
      "Start update candidates file!\n",
      "Finish update candidates file!\n"
     ]
    }
   ],
   "source": [
    "nimo.selection(method = \"PHYSBO\",\n",
    "            input_file = \"candidates.csv\",\n",
    "            output_file = \"proposals.csv\",\n",
    "            num_objectives = 1,\n",
    "            num_proposals = 5,\n",
    "            minimization = True)\n",
    "\n",
    "conditions = nimo.proposed_conditions(input_file = \"proposals.csv\")\n",
    "\n",
    "for i in range(len(conditions)):\n",
    "    print(\"proposed condition =\", conditions[i])\n",
    "\n",
    "y = []\n",
    "\n",
    "for i in range(len(conditions)):\n",
    "\n",
    "    x1 = conditions[i][0]\n",
    "    x2 = conditions[i][1]\n",
    "\n",
    "    y.append(round(( x1 * x1 + x2 * x2 ), 6))\n",
    "\n",
    "    print(\"objective function value =\", y[i])\n",
    "\n",
    "nimo.output_update(input_file = \"proposals.csv\",\n",
    "                output_file = \"candidates.csv\",\n",
    "                num_objectives = 1,\n",
    "                objective_values = y)\n",
    "\n",
    "res_history = nimo.history(input_file = \"candidates.csv\",\n",
    "                                 num_objectives = 1,\n",
    "                                 itt = 3,\n",
    "                                 history_file = res_history)"
   ]
  },
  {
   "cell_type": "markdown",
   "id": "985d3132-fc88-4805-9b91-85784909d6c7",
   "metadata": {},
   "source": [
    "## 5th loop 実験条件をベイズ最適化により複数提案"
   ]
  },
  {
   "cell_type": "code",
   "execution_count": 11,
   "id": "d9ac9872-2c99-4aff-9ee4-a3acc25820bd",
   "metadata": {},
   "outputs": [
    {
     "name": "stdout",
     "output_type": "stream",
     "text": [
      "Start selection of proposals by PHYSBO!\n",
      "Start the initial hyper parameter searching ...\n",
      "Done\n",
      "\n",
      "Start the hyper parameter learning ...\n",
      "0 -th epoch marginal likelihood 40.23581293787379\n",
      "50 -th epoch marginal likelihood 39.08630343513307\n",
      "100 -th epoch marginal likelihood 38.002320158227434\n",
      "150 -th epoch marginal likelihood 36.97455488322524\n",
      "200 -th epoch marginal likelihood 35.99341498393472\n",
      "250 -th epoch marginal likelihood 35.05134404276347\n",
      "300 -th epoch marginal likelihood 34.142359882440005\n",
      "350 -th epoch marginal likelihood 33.26167916032478\n",
      "400 -th epoch marginal likelihood 32.40544066435584\n",
      "450 -th epoch marginal likelihood 31.57049934222487\n",
      "500 -th epoch marginal likelihood 30.75427144317052\n",
      "Done\n",
      "\n",
      "0002-th multiple probe search (EI)\n",
      "Proposals\n",
      "###\n",
      "number = 1\n",
      "actions =  4\n",
      "proposal =  [0.  1.6]\n",
      "###\n",
      "###\n",
      "number = 2\n",
      "actions =  35\n",
      "proposal =  [1.2 0.8]\n",
      "###\n",
      "###\n",
      "number = 3\n",
      "actions =  25\n",
      "proposal =  [0.8 1.2]\n",
      "###\n",
      "###\n",
      "number = 4\n",
      "actions =  46\n",
      "proposal =  [1.6 0.8]\n",
      "###\n",
      "###\n",
      "number = 5\n",
      "actions =  55\n",
      "proposal =  [2. 0.]\n",
      "###\n",
      "Finish selection of proposals!\n",
      "proposed condition = [0.0, 1.6]\n",
      "proposed condition = [1.2, 0.8]\n",
      "proposed condition = [0.8, 1.2]\n",
      "proposed condition = [1.6, 0.8]\n",
      "proposed condition = [2.0, 0.0]\n",
      "objective function value = 2.56\n",
      "objective function value = 2.08\n",
      "objective function value = 2.08\n",
      "objective function value = 3.2\n",
      "objective function value = 4.0\n",
      "Start update candidates file!\n",
      "Finish update candidates file!\n"
     ]
    }
   ],
   "source": [
    "nimo.selection(method = \"PHYSBO\",\n",
    "            input_file = \"candidates.csv\",\n",
    "            output_file = \"proposals.csv\",\n",
    "            num_objectives = 1,\n",
    "            num_proposals = 5,\n",
    "            minimization = True)\n",
    "\n",
    "conditions = nimo.proposed_conditions(input_file = \"proposals.csv\")\n",
    "\n",
    "for i in range(len(conditions)):\n",
    "    print(\"proposed condition =\", conditions[i])\n",
    "\n",
    "y = []\n",
    "\n",
    "for i in range(len(conditions)):\n",
    "\n",
    "    x1 = conditions[i][0]\n",
    "    x2 = conditions[i][1]\n",
    "\n",
    "    y.append(round(( x1 * x1 + x2 * x2 ), 6))\n",
    "\n",
    "    print(\"objective function value =\", y[i])\n",
    "\n",
    "nimo.output_update(input_file = \"proposals.csv\",\n",
    "                output_file = \"candidates.csv\",\n",
    "                num_objectives = 1,\n",
    "                objective_values = y)\n",
    "\n",
    "res_history = nimo.history(input_file = \"candidates.csv\",\n",
    "                                 num_objectives = 1,\n",
    "                                 itt = 4,\n",
    "                                 history_file = res_history)"
   ]
  },
  {
   "cell_type": "markdown",
   "id": "b95c4225-ba55-455e-bf6c-a07f69daee35",
   "metadata": {},
   "source": [
    "### 目的関数の推移を出力"
   ]
  },
  {
   "cell_type": "code",
   "execution_count": 12,
   "id": "49608dec-6e30-4f64-a6ab-be8f9d75f3fa",
   "metadata": {},
   "outputs": [],
   "source": [
    "nimo.visualization.plot_history.cycle(input_file = res_history,\n",
    "                                      num_cycles = 5,\n",
    "                                      fig_folder = \"./\")"
   ]
  },
  {
   "cell_type": "code",
   "execution_count": null,
   "id": "f8f6a888-0508-42e1-aaa2-fc17b30a35d0",
   "metadata": {},
   "outputs": [],
   "source": []
  }
 ],
 "metadata": {
  "kernelspec": {
   "display_name": "Python 3 (ipykernel)",
   "language": "python",
   "name": "python3"
  },
  "language_info": {
   "codemirror_mode": {
    "name": "ipython",
    "version": 3
   },
   "file_extension": ".py",
   "mimetype": "text/x-python",
   "name": "python",
   "nbconvert_exporter": "python",
   "pygments_lexer": "ipython3",
   "version": "3.12.8"
  }
 },
 "nbformat": 4,
 "nbformat_minor": 5
}
