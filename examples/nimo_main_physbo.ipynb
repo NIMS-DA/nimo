{
 "cells": [
  {
   "cell_type": "markdown",
   "id": "e2660de2-5034-4e9d-b67f-b66d7d0903b4",
   "metadata": {},
   "source": [
    "# NIMOハンズオン (PHYSBO)"
   ]
  },
  {
   "cell_type": "code",
   "execution_count": 1,
   "id": "437d7fe2-883b-4d6d-9300-35012aa3d19e",
   "metadata": {},
   "outputs": [],
   "source": [
    "import nimo\n",
    "import csv"
   ]
  },
  {
   "cell_type": "markdown",
   "id": "60202952-7761-451b-841c-0c92e84640d4",
   "metadata": {},
   "source": [
    "### 結果を格納する場所を作成"
   ]
  },
  {
   "cell_type": "code",
   "execution_count": 2,
   "id": "bf815fc3-fff9-4670-935c-e10dba5bdb1e",
   "metadata": {},
   "outputs": [],
   "source": [
    "res_history = nimo.history(input_file = \"candidates.csv\",\n",
    "                             num_objectives = 1)"
   ]
  },
  {
   "cell_type": "markdown",
   "id": "5922fb0a-682d-4815-bb05-9e621f131d95",
   "metadata": {},
   "source": [
    "## 1st loop 実験条件をランダムに提案"
   ]
  },
  {
   "cell_type": "code",
   "execution_count": 3,
   "id": "76f5ce69-dce6-48cf-be7f-d508b6c2f715",
   "metadata": {},
   "outputs": [
    {
     "name": "stdout",
     "output_type": "stream",
     "text": [
      "Start selection of proposals by RE!\n",
      "Proposals\n",
      "###\n",
      "number = 1\n",
      "actions =  34\n",
      "proposal =  [1.2 0.4]\n",
      "###\n",
      "Finish selection of proposals!\n"
     ]
    },
    {
     "data": {
      "text/plain": [
       "<nimo.nimo_modules.selection at 0x1526579e0>"
      ]
     },
     "execution_count": 3,
     "metadata": {},
     "output_type": "execute_result"
    }
   ],
   "source": [
    "nimo.selection(method = \"RE\",\n",
    "            input_file = \"candidates.csv\",\n",
    "            output_file = \"proposals.csv\",\n",
    "            num_objectives = 1,\n",
    "            num_proposals = 1)"
   ]
  },
  {
   "cell_type": "markdown",
   "id": "815f7270-818b-4d4d-b402-00ba4abfb644",
   "metadata": {},
   "source": [
    "### 提案された実験条件の確認"
   ]
  },
  {
   "cell_type": "code",
   "execution_count": 4,
   "id": "ec7af2a7-fb04-41e9-80bb-4551b5baa7da",
   "metadata": {},
   "outputs": [
    {
     "name": "stdout",
     "output_type": "stream",
     "text": [
      "proposed condition = [1.2, 0.4]\n"
     ]
    }
   ],
   "source": [
    "conditions = nimo.proposed_conditions(input_file = \"proposals.csv\")\n",
    "\n",
    "print(\"proposed condition =\", conditions[0])"
   ]
  },
  {
   "cell_type": "markdown",
   "id": "872e6ae9-6a8e-4dcc-803b-bd5a69f68607",
   "metadata": {},
   "source": [
    "### 目的関数の計算(本来であれば，実験orシミュレーション)"
   ]
  },
  {
   "cell_type": "code",
   "execution_count": 5,
   "id": "ebe1af37-f062-496b-a7d4-c069c95a1982",
   "metadata": {},
   "outputs": [
    {
     "name": "stdout",
     "output_type": "stream",
     "text": [
      "objective function value = 1.6\n"
     ]
    }
   ],
   "source": [
    "x1 = conditions[0][0]\n",
    "x2 = conditions[0][1]\n",
    "\n",
    "y = round(( x1 * x1 + x2 * x2 ), 6)\n",
    "\n",
    "print(\"objective function value =\", y)"
   ]
  },
  {
   "cell_type": "markdown",
   "id": "aeb5a32e-1afe-4d57-8d9d-50bd33601567",
   "metadata": {},
   "source": [
    "### 結果をcandidates.csvに記載"
   ]
  },
  {
   "cell_type": "code",
   "execution_count": 6,
   "id": "9c2e6bc1-5db6-4517-82b6-6d4f17521530",
   "metadata": {},
   "outputs": [
    {
     "name": "stdout",
     "output_type": "stream",
     "text": [
      "Start update candidates file!\n",
      "Finish update candidates file!\n"
     ]
    },
    {
     "data": {
      "text/plain": [
       "<nimo.nimo_modules.output_update at 0x152657e90>"
      ]
     },
     "execution_count": 6,
     "metadata": {},
     "output_type": "execute_result"
    }
   ],
   "source": [
    "nimo.output_update(input_file = \"proposals.csv\",\n",
    "                output_file = \"candidates.csv\",\n",
    "                num_objectives = 1,\n",
    "                objective_values = [y])"
   ]
  },
  {
   "cell_type": "markdown",
   "id": "d1ebbf40-5813-468e-aa65-a3650ba1ce13",
   "metadata": {},
   "source": [
    "### 可視化用に結果を保存"
   ]
  },
  {
   "cell_type": "code",
   "execution_count": 7,
   "id": "efb8e1ff-5102-443a-9f9a-516659c595a9",
   "metadata": {},
   "outputs": [],
   "source": [
    "res_history = nimo.history(input_file = \"candidates.csv\",\n",
    "                                 num_objectives = 1,\n",
    "                                 itt = 0,\n",
    "                                 history_file = res_history)"
   ]
  },
  {
   "cell_type": "markdown",
   "id": "f07924d1-ca5a-46cf-81a0-48f993578eb2",
   "metadata": {},
   "source": [
    "## 2nd loop 実験条件をランダムに提案"
   ]
  },
  {
   "cell_type": "code",
   "execution_count": 8,
   "id": "d15bbc10-1b6f-49d7-ae6f-c8a1601759ff",
   "metadata": {},
   "outputs": [
    {
     "name": "stdout",
     "output_type": "stream",
     "text": [
      "Start selection of proposals by RE!\n",
      "Proposals\n",
      "###\n",
      "number = 1\n",
      "actions =  112\n",
      "proposal =  [4.  0.8]\n",
      "###\n",
      "Finish selection of proposals!\n",
      "proposed condition = [4.0, 0.8]\n",
      "objective function value = 16.64\n",
      "Start update candidates file!\n",
      "Finish update candidates file!\n"
     ]
    }
   ],
   "source": [
    "nimo.selection(method = \"RE\",\n",
    "            input_file = \"candidates.csv\",\n",
    "            output_file = \"proposals.csv\",\n",
    "            num_objectives = 1,\n",
    "            num_proposals = 1)\n",
    "\n",
    "conditions = nimo.proposed_conditions(input_file = \"proposals.csv\")\n",
    "\n",
    "print(\"proposed condition =\", conditions[0])\n",
    "\n",
    "x1 = conditions[0][0]\n",
    "x2 = conditions[0][1]\n",
    "\n",
    "y = round(( x1 * x1 + x2 * x2 ), 6)\n",
    "\n",
    "print(\"objective function value =\", y)\n",
    "\n",
    "nimo.output_update(input_file = \"proposals.csv\",\n",
    "                output_file = \"candidates.csv\",\n",
    "                num_objectives = 1,\n",
    "                objective_values = [y])\n",
    "\n",
    "res_history = nimo.history(input_file = \"candidates.csv\",\n",
    "                                 num_objectives = 1,\n",
    "                                 itt = 1,\n",
    "                                 history_file = res_history)"
   ]
  },
  {
   "cell_type": "markdown",
   "id": "3f7bb3fe-c6b0-464e-8ada-2b21b12a4495",
   "metadata": {},
   "source": [
    "## 3rd loop 実験条件をランダムに提案"
   ]
  },
  {
   "cell_type": "code",
   "execution_count": 9,
   "id": "1d643967-1360-4a3f-81e0-8ae290c1aabc",
   "metadata": {},
   "outputs": [
    {
     "name": "stdout",
     "output_type": "stream",
     "text": [
      "Start selection of proposals by RE!\n",
      "Proposals\n",
      "###\n",
      "number = 1\n",
      "actions =  4\n",
      "proposal =  [0.  1.6]\n",
      "###\n",
      "Finish selection of proposals!\n",
      "proposed condition = [0.0, 1.6]\n",
      "objective function value = 2.56\n",
      "Start update candidates file!\n",
      "Finish update candidates file!\n"
     ]
    }
   ],
   "source": [
    "nimo.selection(method = \"RE\",\n",
    "            input_file = \"candidates.csv\",\n",
    "            output_file = \"proposals.csv\",\n",
    "            num_objectives = 1,\n",
    "            num_proposals = 1)\n",
    "\n",
    "conditions = nimo.proposed_conditions(input_file = \"proposals.csv\")\n",
    "\n",
    "print(\"proposed condition =\", conditions[0])\n",
    "\n",
    "x1 = conditions[0][0]\n",
    "x2 = conditions[0][1]\n",
    "\n",
    "y = round(( x1 * x1 + x2 * x2 ), 6)\n",
    "\n",
    "print(\"objective function value =\", y)\n",
    "\n",
    "nimo.output_update(input_file = \"proposals.csv\",\n",
    "                output_file = \"candidates.csv\",\n",
    "                num_objectives = 1,\n",
    "                objective_values = [y])\n",
    "\n",
    "res_history = nimo.history(input_file = \"candidates.csv\",\n",
    "                                 num_objectives = 1,\n",
    "                                 itt = 2,\n",
    "                                 history_file = res_history)"
   ]
  },
  {
   "cell_type": "markdown",
   "id": "f99a61db-d063-4c29-be93-c155a4cbcdf1",
   "metadata": {},
   "source": [
    "## 4th loop 実験条件をベイズ最適化により提案"
   ]
  },
  {
   "cell_type": "code",
   "execution_count": 10,
   "id": "fa02971e-2623-447e-a443-1aee22ef8f24",
   "metadata": {},
   "outputs": [
    {
     "name": "stdout",
     "output_type": "stream",
     "text": [
      "Start selection of proposals by PHYSBO!\n",
      "Start the initial hyper parameter searching ...\n",
      "Done\n",
      "\n",
      "Start the hyper parameter learning ...\n",
      "0 -th epoch marginal likelihood 10.552102759016801\n",
      "50 -th epoch marginal likelihood 10.486960584935805\n",
      "100 -th epoch marginal likelihood 10.455941495866417\n",
      "150 -th epoch marginal likelihood 10.44005838846399\n",
      "200 -th epoch marginal likelihood 10.429662352565582\n",
      "250 -th epoch marginal likelihood 10.421068143717406\n",
      "300 -th epoch marginal likelihood 10.41305224595044\n",
      "350 -th epoch marginal likelihood 10.405219770182882\n",
      "400 -th epoch marginal likelihood 10.397425154187625\n",
      "450 -th epoch marginal likelihood 10.389610799822183\n",
      "500 -th epoch marginal likelihood 10.381758888621523\n",
      "Done\n",
      "\n",
      "Proposals\n",
      "###\n",
      "number = 1\n",
      "actions =  0\n",
      "proposal =  [0. 0.]\n",
      "###\n",
      "Finish selection of proposals!\n",
      "proposed condition = [0.0, 0.0]\n",
      "objective function value = 0.0\n",
      "Start update candidates file!\n",
      "Finish update candidates file!\n"
     ]
    }
   ],
   "source": [
    "nimo.selection(method = \"PHYSBO\",\n",
    "            input_file = \"candidates.csv\",\n",
    "            output_file = \"proposals.csv\",\n",
    "            num_objectives = 1,\n",
    "            num_proposals = 1,\n",
    "            minimization = True)\n",
    "\n",
    "conditions = nimo.proposed_conditions(input_file = \"proposals.csv\")\n",
    "\n",
    "print(\"proposed condition =\", conditions[0])\n",
    "\n",
    "x1 = conditions[0][0]\n",
    "x2 = conditions[0][1]\n",
    "\n",
    "y = round(( x1 * x1 + x2 * x2 ), 6)\n",
    "\n",
    "print(\"objective function value =\", y)\n",
    "\n",
    "nimo.output_update(input_file = \"proposals.csv\",\n",
    "                output_file = \"candidates.csv\",\n",
    "                num_objectives = 1,\n",
    "                objective_values = [y])\n",
    "\n",
    "res_history = nimo.history(input_file = \"candidates.csv\",\n",
    "                                 num_objectives = 1,\n",
    "                                 itt = 3,\n",
    "                                 history_file = res_history)"
   ]
  },
  {
   "cell_type": "markdown",
   "id": "646b512f-dc01-44d4-9d36-aa3dd169e63c",
   "metadata": {},
   "source": [
    "## 5th loop 実験条件をベイズ最適化により提案"
   ]
  },
  {
   "cell_type": "code",
   "execution_count": 11,
   "id": "f31757f1-d3b8-4d85-bdda-5967b540de54",
   "metadata": {},
   "outputs": [
    {
     "name": "stdout",
     "output_type": "stream",
     "text": [
      "Start selection of proposals by PHYSBO!\n",
      "Start the initial hyper parameter searching ...\n",
      "Done\n",
      "\n",
      "Start the hyper parameter learning ...\n",
      "0 -th epoch marginal likelihood 13.09868815117723\n",
      "50 -th epoch marginal likelihood 13.042453283662221\n",
      "100 -th epoch marginal likelihood 13.008715013337\n",
      "150 -th epoch marginal likelihood 12.988234297883404\n",
      "200 -th epoch marginal likelihood 12.97451604853283\n",
      "250 -th epoch marginal likelihood 12.963887845539265\n",
      "300 -th epoch marginal likelihood 12.95448657906669\n",
      "350 -th epoch marginal likelihood 12.945483436672676\n",
      "400 -th epoch marginal likelihood 12.936564334980078\n",
      "450 -th epoch marginal likelihood 12.927634153427698\n",
      "500 -th epoch marginal likelihood 12.918675737885717\n",
      "Done\n",
      "\n",
      "Proposals\n",
      "###\n",
      "number = 1\n",
      "actions =  43\n",
      "proposal =  [1.2 4. ]\n",
      "###\n",
      "Finish selection of proposals!\n",
      "proposed condition = [1.2, 4.0]\n",
      "objective function value = 17.44\n",
      "Start update candidates file!\n",
      "Finish update candidates file!\n"
     ]
    }
   ],
   "source": [
    "nimo.selection(method = \"PHYSBO\",\n",
    "            input_file = \"candidates.csv\",\n",
    "            output_file = \"proposals.csv\",\n",
    "            num_objectives = 1,\n",
    "            num_proposals = 1,\n",
    "            minimization = True)\n",
    "\n",
    "conditions = nimo.proposed_conditions(input_file = \"proposals.csv\")\n",
    "\n",
    "print(\"proposed condition =\", conditions[0])\n",
    "\n",
    "x1 = conditions[0][0]\n",
    "x2 = conditions[0][1]\n",
    "\n",
    "y = round(( x1 * x1 + x2 * x2 ), 6)\n",
    "\n",
    "print(\"objective function value =\", y)\n",
    "\n",
    "nimo.output_update(input_file = \"proposals.csv\",\n",
    "                output_file = \"candidates.csv\",\n",
    "                num_objectives = 1,\n",
    "                objective_values = [y])\n",
    "\n",
    "res_history = nimo.history(input_file = \"candidates.csv\",\n",
    "                                 num_objectives = 1,\n",
    "                                 itt = 4,\n",
    "                                 history_file = res_history)"
   ]
  },
  {
   "cell_type": "markdown",
   "id": "760f4456-c769-46a4-baa3-e6a0177c437d",
   "metadata": {},
   "source": [
    "## 6th loop 実験条件をベイズ最適化により提案"
   ]
  },
  {
   "cell_type": "code",
   "execution_count": 12,
   "id": "fe03d6db-658d-4625-b92e-762053618f16",
   "metadata": {},
   "outputs": [
    {
     "name": "stdout",
     "output_type": "stream",
     "text": [
      "Start selection of proposals by PHYSBO!\n",
      "Start the initial hyper parameter searching ...\n",
      "Done\n",
      "\n",
      "Start the hyper parameter learning ...\n",
      "0 -th epoch marginal likelihood 17.603068485543254\n",
      "50 -th epoch marginal likelihood 17.473711401153476\n",
      "100 -th epoch marginal likelihood 17.379088171332157\n",
      "150 -th epoch marginal likelihood 17.308599508909708\n",
      "200 -th epoch marginal likelihood 17.254912192617752\n",
      "250 -th epoch marginal likelihood 17.213723318166938\n",
      "300 -th epoch marginal likelihood 17.182097282639322\n",
      "350 -th epoch marginal likelihood 17.157694105468146\n",
      "400 -th epoch marginal likelihood 17.138583456211737\n",
      "450 -th epoch marginal likelihood 17.123228945181985\n",
      "500 -th epoch marginal likelihood 17.11045906484342\n",
      "Done\n",
      "\n",
      "Proposals\n",
      "###\n",
      "number = 1\n",
      "actions =  11\n",
      "proposal =  [0.4 0. ]\n",
      "###\n",
      "Finish selection of proposals!\n",
      "proposed condition = [0.4, 0.0]\n",
      "objective function value = 0.16\n",
      "Start update candidates file!\n",
      "Finish update candidates file!\n"
     ]
    }
   ],
   "source": [
    "nimo.selection(method = \"PHYSBO\",\n",
    "            input_file = \"candidates.csv\",\n",
    "            output_file = \"proposals.csv\",\n",
    "            num_objectives = 1,\n",
    "            num_proposals = 1,\n",
    "            minimization = True)\n",
    "\n",
    "conditions = nimo.proposed_conditions(input_file = \"proposals.csv\")\n",
    "\n",
    "print(\"proposed condition =\", conditions[0])\n",
    "\n",
    "x1 = conditions[0][0]\n",
    "x2 = conditions[0][1]\n",
    "\n",
    "y = round(( x1 * x1 + x2 * x2 ), 6)\n",
    "\n",
    "print(\"objective function value =\", y)\n",
    "\n",
    "nimo.output_update(input_file = \"proposals.csv\",\n",
    "                output_file = \"candidates.csv\",\n",
    "                num_objectives = 1,\n",
    "                objective_values = [y])\n",
    "\n",
    "res_history = nimo.history(input_file = \"candidates.csv\",\n",
    "                                 num_objectives = 1,\n",
    "                                 itt = 5,\n",
    "                                 history_file = res_history)"
   ]
  },
  {
   "cell_type": "markdown",
   "id": "48a1e36f-68ef-4ec2-a685-1a78993931a2",
   "metadata": {},
   "source": [
    "## 7th loop 実験条件をベイズ最適化により提案"
   ]
  },
  {
   "cell_type": "code",
   "execution_count": 13,
   "id": "6fa5ecf3-151c-4ad7-a1df-e1bd4eb5a9ce",
   "metadata": {},
   "outputs": [
    {
     "name": "stdout",
     "output_type": "stream",
     "text": [
      "Start selection of proposals by PHYSBO!\n",
      "Start the initial hyper parameter searching ...\n",
      "Done\n",
      "\n",
      "Start the hyper parameter learning ...\n",
      "0 -th epoch marginal likelihood 18.853865237113908\n",
      "50 -th epoch marginal likelihood 18.651706804248583\n",
      "100 -th epoch marginal likelihood 18.489519322551335\n",
      "150 -th epoch marginal likelihood 18.357081937015487\n",
      "200 -th epoch marginal likelihood 18.246595130999758\n",
      "250 -th epoch marginal likelihood 18.152980446969526\n",
      "300 -th epoch marginal likelihood 18.072653203688763\n",
      "350 -th epoch marginal likelihood 18.002884767620543\n",
      "400 -th epoch marginal likelihood 17.94153234958683\n",
      "450 -th epoch marginal likelihood 17.886913458802464\n",
      "500 -th epoch marginal likelihood 17.837718188882796\n",
      "Done\n",
      "\n",
      "Proposals\n",
      "###\n",
      "number = 1\n",
      "actions =  1\n",
      "proposal =  [0.  0.4]\n",
      "###\n",
      "Finish selection of proposals!\n",
      "objective function value = 0.16\n",
      "Start update candidates file!\n",
      "Finish update candidates file!\n"
     ]
    }
   ],
   "source": [
    "nimo.selection(method = \"PHYSBO\",\n",
    "            input_file = \"candidates.csv\",\n",
    "            output_file = \"proposals.csv\",\n",
    "            num_objectives = 1,\n",
    "            num_proposals = 1,\n",
    "            minimization = True)\n",
    "\n",
    "conditions = nimo.proposed_conditions(input_file = \"proposals.csv\")\n",
    "\n",
    "x1 = conditions[0][0]\n",
    "x2 = conditions[0][1]\n",
    "\n",
    "y = round(( x1 * x1 + x2 * x2 ), 6)\n",
    "\n",
    "print(\"objective function value =\", y)\n",
    "\n",
    "nimo.output_update(input_file = \"proposals.csv\",\n",
    "                output_file = \"candidates.csv\",\n",
    "                num_objectives = 1,\n",
    "                objective_values = [y])\n",
    "\n",
    "res_history = nimo.history(input_file = \"candidates.csv\",\n",
    "                                 num_objectives = 1,\n",
    "                                 itt = 6,\n",
    "                                 history_file = res_history)"
   ]
  },
  {
   "cell_type": "markdown",
   "id": "8f7991da-6840-4475-a8dd-f4f22cec7211",
   "metadata": {},
   "source": [
    "## 8th loop 実験条件をベイズ最適化により提案"
   ]
  },
  {
   "cell_type": "code",
   "execution_count": 14,
   "id": "fa6184c7-366e-40b2-a0f5-772c1b351f40",
   "metadata": {},
   "outputs": [
    {
     "name": "stdout",
     "output_type": "stream",
     "text": [
      "Start selection of proposals by PHYSBO!\n",
      "Start the initial hyper parameter searching ...\n",
      "Done\n",
      "\n",
      "Start the hyper parameter learning ...\n",
      "0 -th epoch marginal likelihood 20.261021479156014\n",
      "50 -th epoch marginal likelihood 19.96450984642283\n",
      "100 -th epoch marginal likelihood 19.713085132251653\n",
      "150 -th epoch marginal likelihood 19.495242333607237\n",
      "200 -th epoch marginal likelihood 19.30266539147154\n",
      "250 -th epoch marginal likelihood 19.130433966365697\n",
      "300 -th epoch marginal likelihood 18.97538121985498\n",
      "350 -th epoch marginal likelihood 18.835143140356266\n",
      "400 -th epoch marginal likelihood 18.70774379563933\n",
      "450 -th epoch marginal likelihood 18.59146437796437\n",
      "500 -th epoch marginal likelihood 18.484814390968104\n",
      "Done\n",
      "\n",
      "Proposals\n",
      "###\n",
      "number = 1\n",
      "actions =  12\n",
      "proposal =  [0.4 0.4]\n",
      "###\n",
      "Finish selection of proposals!\n",
      "proposed condition = [0.4, 0.4]\n",
      "objective function value = 0.32\n",
      "Start update candidates file!\n",
      "Finish update candidates file!\n"
     ]
    }
   ],
   "source": [
    "nimo.selection(method = \"PHYSBO\",\n",
    "            input_file = \"candidates.csv\",\n",
    "            output_file = \"proposals.csv\",\n",
    "            num_objectives = 1,\n",
    "            num_proposals = 1,\n",
    "            minimization = True)\n",
    "\n",
    "conditions = nimo.proposed_conditions(input_file = \"proposals.csv\")\n",
    "\n",
    "print(\"proposed condition =\", conditions[0])\n",
    "\n",
    "x1 = conditions[0][0]\n",
    "x2 = conditions[0][1]\n",
    "\n",
    "y = round(( x1 * x1 + x2 * x2 ), 6)\n",
    "\n",
    "print(\"objective function value =\", y)\n",
    "\n",
    "nimo.output_update(input_file = \"proposals.csv\",\n",
    "                output_file = \"candidates.csv\",\n",
    "                num_objectives = 1,\n",
    "                objective_values = [y])\n",
    "\n",
    "res_history = nimo.history(input_file = \"candidates.csv\",\n",
    "                                 num_objectives = 1,\n",
    "                                 itt = 7,\n",
    "                                 history_file = res_history)"
   ]
  },
  {
   "cell_type": "markdown",
   "id": "a057d308-bf6d-4924-ad59-a7a87281af73",
   "metadata": {},
   "source": [
    "## 9th loop 実験条件をベイズ最適化により提案"
   ]
  },
  {
   "cell_type": "code",
   "execution_count": 15,
   "id": "8f6878a6-8bee-4fc4-8c7e-bf27dbb31526",
   "metadata": {},
   "outputs": [
    {
     "name": "stdout",
     "output_type": "stream",
     "text": [
      "Start selection of proposals by PHYSBO!\n",
      "Start the initial hyper parameter searching ...\n",
      "Done\n",
      "\n",
      "Start the hyper parameter learning ...\n",
      "0 -th epoch marginal likelihood 21.554509911227512\n",
      "50 -th epoch marginal likelihood 21.145089979039316\n",
      "100 -th epoch marginal likelihood 20.79101556000606\n",
      "150 -th epoch marginal likelihood 20.47877998644176\n",
      "200 -th epoch marginal likelihood 20.198000707629\n",
      "250 -th epoch marginal likelihood 19.942298858202225\n",
      "300 -th epoch marginal likelihood 19.707670726249795\n",
      "350 -th epoch marginal likelihood 19.491361103915526\n",
      "400 -th epoch marginal likelihood 19.291221322450586\n",
      "450 -th epoch marginal likelihood 19.105412730469247\n",
      "500 -th epoch marginal likelihood 18.932304182025945\n",
      "Done\n",
      "\n",
      "Proposals\n",
      "###\n",
      "number = 1\n",
      "actions =  22\n",
      "proposal =  [0.8 0. ]\n",
      "###\n",
      "Finish selection of proposals!\n",
      "proposed condition = [0.8, 0.0]\n",
      "objective function value = 0.64\n",
      "Start update candidates file!\n",
      "Finish update candidates file!\n"
     ]
    }
   ],
   "source": [
    "nimo.selection(method = \"PHYSBO\",\n",
    "            input_file = \"candidates.csv\",\n",
    "            output_file = \"proposals.csv\",\n",
    "            num_objectives = 1,\n",
    "            num_proposals = 1,\n",
    "            minimization = True)\n",
    "\n",
    "conditions = nimo.proposed_conditions(input_file = \"proposals.csv\")\n",
    "\n",
    "print(\"proposed condition =\", conditions[0])\n",
    "\n",
    "x1 = conditions[0][0]\n",
    "x2 = conditions[0][1]\n",
    "\n",
    "y = round(( x1 * x1 + x2 * x2 ), 6)\n",
    "\n",
    "print(\"objective function value =\", y)\n",
    "\n",
    "nimo.output_update(input_file = \"proposals.csv\",\n",
    "                output_file = \"candidates.csv\",\n",
    "                num_objectives = 1,\n",
    "                objective_values = [y])\n",
    "\n",
    "res_history = nimo.history(input_file = \"candidates.csv\",\n",
    "                                 num_objectives = 1,\n",
    "                                 itt = 8,\n",
    "                                 history_file = res_history)"
   ]
  },
  {
   "cell_type": "markdown",
   "id": "0bea4861-dae7-47e6-aa73-b5a147eb8c61",
   "metadata": {},
   "source": [
    "## 10th loop 実験条件をベイズ最適化により提案"
   ]
  },
  {
   "cell_type": "code",
   "execution_count": 16,
   "id": "bf90dc6d-c29e-407f-bdf8-8ce8c55d38e6",
   "metadata": {},
   "outputs": [
    {
     "name": "stdout",
     "output_type": "stream",
     "text": [
      "Start selection of proposals by PHYSBO!\n",
      "Start the initial hyper parameter searching ...\n",
      "Done\n",
      "\n",
      "Start the hyper parameter learning ...\n",
      "0 -th epoch marginal likelihood 23.79807913993614\n",
      "50 -th epoch marginal likelihood 23.27371115562893\n",
      "100 -th epoch marginal likelihood 22.810037714191782\n",
      "150 -th epoch marginal likelihood 22.38885478105542\n",
      "200 -th epoch marginal likelihood 21.9964345751679\n",
      "250 -th epoch marginal likelihood 21.62518720374353\n",
      "300 -th epoch marginal likelihood 21.271626365916845\n",
      "350 -th epoch marginal likelihood 20.934524190179772\n",
      "400 -th epoch marginal likelihood 20.613602328090625\n",
      "450 -th epoch marginal likelihood 20.308793691159995\n",
      "500 -th epoch marginal likelihood 20.019923470283633\n",
      "Done\n",
      "\n",
      "Proposals\n",
      "###\n",
      "number = 1\n",
      "actions =  120\n",
      "proposal =  [4. 4.]\n",
      "###\n",
      "Finish selection of proposals!\n",
      "proposed condition = [4.0, 4.0]\n",
      "objective function value = 32.0\n",
      "Start update candidates file!\n",
      "Finish update candidates file!\n"
     ]
    }
   ],
   "source": [
    "nimo.selection(method = \"PHYSBO\",\n",
    "            input_file = \"candidates.csv\",\n",
    "            output_file = \"proposals.csv\",\n",
    "            num_objectives = 1,\n",
    "            num_proposals = 1,\n",
    "            minimization = True)\n",
    "\n",
    "conditions = nimo.proposed_conditions(input_file = \"proposals.csv\")\n",
    "\n",
    "print(\"proposed condition =\", conditions[0])\n",
    "\n",
    "x1 = conditions[0][0]\n",
    "x2 = conditions[0][1]\n",
    "\n",
    "y = round(( x1 * x1 + x2 * x2 ), 6)\n",
    "\n",
    "print(\"objective function value =\", y)\n",
    "\n",
    "nimo.output_update(input_file = \"proposals.csv\",\n",
    "                output_file = \"candidates.csv\",\n",
    "                num_objectives = 1,\n",
    "                objective_values = [y])\n",
    "\n",
    "res_history = nimo.history(input_file = \"candidates.csv\",\n",
    "                                 num_objectives = 1,\n",
    "                                 itt = 9,\n",
    "                                 history_file = res_history)"
   ]
  },
  {
   "cell_type": "markdown",
   "id": "b95c4225-ba55-455e-bf6c-a07f69daee35",
   "metadata": {},
   "source": [
    "### 目的関数の推移を出力"
   ]
  },
  {
   "cell_type": "code",
   "execution_count": 17,
   "id": "49608dec-6e30-4f64-a6ab-be8f9d75f3fa",
   "metadata": {},
   "outputs": [],
   "source": [
    "nimo.visualization.plot_history.cycle(input_file = res_history,\n",
    "                                      num_cycles = 10,\n",
    "                                      fig_folder = \"./\")"
   ]
  },
  {
   "cell_type": "code",
   "execution_count": null,
   "id": "f8f6a888-0508-42e1-aaa2-fc17b30a35d0",
   "metadata": {},
   "outputs": [],
   "source": []
  }
 ],
 "metadata": {
  "kernelspec": {
   "display_name": "Python 3 (ipykernel)",
   "language": "python",
   "name": "python3"
  },
  "language_info": {
   "codemirror_mode": {
    "name": "ipython",
    "version": 3
   },
   "file_extension": ".py",
   "mimetype": "text/x-python",
   "name": "python",
   "nbconvert_exporter": "python",
   "pygments_lexer": "ipython3",
   "version": "3.12.8"
  }
 },
 "nbformat": 4,
 "nbformat_minor": 5
}
