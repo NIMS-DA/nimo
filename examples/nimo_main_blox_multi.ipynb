{
 "cells": [
  {
   "cell_type": "markdown",
   "id": "e2660de2-5034-4e9d-b67f-b66d7d0903b4",
   "metadata": {},
   "source": [
    "# NIMOハンズオン (BLOX 複数提案)"
   ]
  },
  {
   "cell_type": "code",
   "execution_count": 1,
   "id": "437d7fe2-883b-4d6d-9300-35012aa3d19e",
   "metadata": {},
   "outputs": [],
   "source": [
    "import nimo\n",
    "import csv"
   ]
  },
  {
   "cell_type": "markdown",
   "id": "60202952-7761-451b-841c-0c92e84640d4",
   "metadata": {},
   "source": [
    "### 結果を格納する場所を作成"
   ]
  },
  {
   "cell_type": "code",
   "execution_count": 2,
   "id": "bf815fc3-fff9-4670-935c-e10dba5bdb1e",
   "metadata": {},
   "outputs": [],
   "source": [
    "res_history = nimo.history(input_file = \"candidates.csv\",\n",
    "                             num_objectives = 1)"
   ]
  },
  {
   "cell_type": "markdown",
   "id": "5922fb0a-682d-4815-bb05-9e621f131d95",
   "metadata": {},
   "source": [
    "## 1st loop 実験条件をランダムに複数提案"
   ]
  },
  {
   "cell_type": "code",
   "execution_count": 3,
   "id": "76f5ce69-dce6-48cf-be7f-d508b6c2f715",
   "metadata": {},
   "outputs": [
    {
     "name": "stdout",
     "output_type": "stream",
     "text": [
      "Start selection of proposals by RE!\n",
      "Proposals\n",
      "###\n",
      "number = 1\n",
      "actions =  87\n",
      "proposal =  [2.8 4. ]\n",
      "###\n",
      "###\n",
      "number = 2\n",
      "actions =  56\n",
      "proposal =  [2.  0.4]\n",
      "###\n",
      "###\n",
      "number = 3\n",
      "actions =  39\n",
      "proposal =  [1.2 2.4]\n",
      "###\n",
      "###\n",
      "number = 4\n",
      "actions =  24\n",
      "proposal =  [0.8 0.8]\n",
      "###\n",
      "###\n",
      "number = 5\n",
      "actions =  25\n",
      "proposal =  [0.8 1.2]\n",
      "###\n",
      "###\n",
      "number = 6\n",
      "actions =  63\n",
      "proposal =  [2.  3.2]\n",
      "###\n",
      "Finish selection of proposals!\n"
     ]
    },
    {
     "data": {
      "text/plain": [
       "<nimo.nimo_modules.selection at 0x16a258620>"
      ]
     },
     "execution_count": 3,
     "metadata": {},
     "output_type": "execute_result"
    }
   ],
   "source": [
    "nimo.selection(method = \"RE\",\n",
    "            input_file = \"candidates.csv\",\n",
    "            output_file = \"proposals.csv\",\n",
    "            num_objectives = 1,\n",
    "            num_proposals = 6)"
   ]
  },
  {
   "cell_type": "markdown",
   "id": "815f7270-818b-4d4d-b402-00ba4abfb644",
   "metadata": {},
   "source": [
    "### 提案された実験条件の確認"
   ]
  },
  {
   "cell_type": "code",
   "execution_count": 4,
   "id": "ec7af2a7-fb04-41e9-80bb-4551b5baa7da",
   "metadata": {},
   "outputs": [
    {
     "name": "stdout",
     "output_type": "stream",
     "text": [
      "proposed condition = [2.8, 4.0]\n",
      "proposed condition = [2.0, 0.4]\n",
      "proposed condition = [1.2, 2.4]\n",
      "proposed condition = [0.8, 0.8]\n",
      "proposed condition = [0.8, 1.2]\n",
      "proposed condition = [2.0, 3.2]\n"
     ]
    }
   ],
   "source": [
    "conditions = nimo.proposed_conditions(input_file = \"proposals.csv\")\n",
    "\n",
    "for i in range(len(conditions)):\n",
    "    print(\"proposed condition =\", conditions[i])"
   ]
  },
  {
   "cell_type": "markdown",
   "id": "872e6ae9-6a8e-4dcc-803b-bd5a69f68607",
   "metadata": {},
   "source": [
    "### 目的関数の計算(本来であれば，実験orシミュレーション)"
   ]
  },
  {
   "cell_type": "code",
   "execution_count": 5,
   "id": "ebe1af37-f062-496b-a7d4-c069c95a1982",
   "metadata": {},
   "outputs": [
    {
     "name": "stdout",
     "output_type": "stream",
     "text": [
      "objective function value = 23.84\n",
      "objective function value = 4.16\n",
      "objective function value = 7.2\n",
      "objective function value = 1.28\n",
      "objective function value = 2.08\n",
      "objective function value = 14.24\n"
     ]
    }
   ],
   "source": [
    "y = []\n",
    "\n",
    "for i in range(len(conditions)):\n",
    "\n",
    "    x1 = conditions[i][0]\n",
    "    x2 = conditions[i][1]\n",
    "\n",
    "    y.append(round(( x1 * x1 + x2 * x2 ), 6))\n",
    "\n",
    "    print(\"objective function value =\", y[i])"
   ]
  },
  {
   "cell_type": "markdown",
   "id": "aeb5a32e-1afe-4d57-8d9d-50bd33601567",
   "metadata": {},
   "source": [
    "### 結果をcandidates.csvに記載"
   ]
  },
  {
   "cell_type": "code",
   "execution_count": 6,
   "id": "9c2e6bc1-5db6-4517-82b6-6d4f17521530",
   "metadata": {},
   "outputs": [
    {
     "name": "stdout",
     "output_type": "stream",
     "text": [
      "Start update candidates file!\n",
      "Finish update candidates file!\n"
     ]
    },
    {
     "data": {
      "text/plain": [
       "<nimo.nimo_modules.output_update at 0x16a374950>"
      ]
     },
     "execution_count": 6,
     "metadata": {},
     "output_type": "execute_result"
    }
   ],
   "source": [
    "nimo.output_update(input_file = \"proposals.csv\",\n",
    "                output_file = \"candidates.csv\",\n",
    "                num_objectives = 1,\n",
    "                objective_values = y)"
   ]
  },
  {
   "cell_type": "markdown",
   "id": "d1ebbf40-5813-468e-aa65-a3650ba1ce13",
   "metadata": {},
   "source": [
    "### 可視化用に結果を保存"
   ]
  },
  {
   "cell_type": "code",
   "execution_count": 7,
   "id": "efb8e1ff-5102-443a-9f9a-516659c595a9",
   "metadata": {},
   "outputs": [],
   "source": [
    "res_history = nimo.history(input_file = \"candidates.csv\",\n",
    "                                 num_objectives = 1,\n",
    "                                 itt = 0,\n",
    "                                 history_file = res_history)"
   ]
  },
  {
   "cell_type": "markdown",
   "id": "f99a61db-d063-4c29-be93-c155a4cbcdf1",
   "metadata": {},
   "source": [
    "## 2nd loop 実験条件をBLOXにより複数提案"
   ]
  },
  {
   "cell_type": "code",
   "execution_count": 8,
   "id": "fa02971e-2623-447e-a443-1aee22ef8f24",
   "metadata": {},
   "outputs": [
    {
     "name": "stdout",
     "output_type": "stream",
     "text": [
      "Start selection of proposals by BLOX!\n",
      "Fitting 3 folds for each of 3 candidates, totalling 9 fits\n",
      "Fitting 3 folds for each of 3 candidates, totalling 9 fits\n",
      "Fitting 3 folds for each of 3 candidates, totalling 9 fits\n",
      "Fitting 3 folds for each of 3 candidates, totalling 9 fits\n",
      "Fitting 3 folds for each of 3 candidates, totalling 9 fits\n",
      "Proposals\n",
      "###\n",
      "number = 1\n",
      "actions =  61\n",
      "proposal =  [2.  2.4]\n",
      "###\n",
      "###\n",
      "number = 2\n",
      "actions =  120\n",
      "proposal =  [4. 4.]\n",
      "###\n",
      "###\n",
      "number = 3\n",
      "actions =  105\n",
      "proposal =  [3.6 2.4]\n",
      "###\n",
      "###\n",
      "number = 4\n",
      "actions =  114\n",
      "proposal =  [4.  1.6]\n",
      "###\n",
      "###\n",
      "number = 5\n",
      "actions =  95\n",
      "proposal =  [3.2 2.8]\n",
      "###\n",
      "Finish selection of proposals!\n",
      "proposed condition = [2.0, 2.4]\n",
      "proposed condition = [4.0, 4.0]\n",
      "proposed condition = [3.6, 2.4]\n",
      "proposed condition = [4.0, 1.6]\n",
      "proposed condition = [3.2, 2.8]\n",
      "objective function value = 9.76\n",
      "objective function value = 32.0\n",
      "objective function value = 18.72\n",
      "objective function value = 18.56\n",
      "objective function value = 18.08\n",
      "Start update candidates file!\n",
      "Finish update candidates file!\n"
     ]
    }
   ],
   "source": [
    "nimo.selection(method = \"BLOX\",\n",
    "            input_file = \"candidates.csv\",\n",
    "            output_file = \"proposals.csv\",\n",
    "            num_objectives = 1,\n",
    "            num_proposals = 5)\n",
    "\n",
    "conditions = nimo.proposed_conditions(input_file = \"proposals.csv\")\n",
    "\n",
    "for i in range(len(conditions)):\n",
    "    print(\"proposed condition =\", conditions[i])\n",
    "\n",
    "y = []\n",
    "\n",
    "for i in range(len(conditions)):\n",
    "\n",
    "    x1 = conditions[i][0]\n",
    "    x2 = conditions[i][1]\n",
    "\n",
    "    y.append(round(( x1 * x1 + x2 * x2 ), 6))\n",
    "\n",
    "    print(\"objective function value =\", y[i])\n",
    "\n",
    "nimo.output_update(input_file = \"proposals.csv\",\n",
    "                output_file = \"candidates.csv\",\n",
    "                num_objectives = 1,\n",
    "                objective_values = y)\n",
    "\n",
    "res_history = nimo.history(input_file = \"candidates.csv\",\n",
    "                                 num_objectives = 1,\n",
    "                                 itt = 1,\n",
    "                                 history_file = res_history)"
   ]
  },
  {
   "cell_type": "markdown",
   "id": "0bea4861-dae7-47e6-aa73-b5a147eb8c61",
   "metadata": {},
   "source": [
    "## 3rd loop 実験条件をBLOXにより複数提案"
   ]
  },
  {
   "cell_type": "code",
   "execution_count": 9,
   "id": "bf90dc6d-c29e-407f-bdf8-8ce8c55d38e6",
   "metadata": {},
   "outputs": [
    {
     "name": "stdout",
     "output_type": "stream",
     "text": [
      "Start selection of proposals by BLOX!\n",
      "Fitting 3 folds for each of 3 candidates, totalling 9 fits\n",
      "Fitting 3 folds for each of 3 candidates, totalling 9 fits\n",
      "Fitting 3 folds for each of 3 candidates, totalling 9 fits\n",
      "Fitting 3 folds for each of 3 candidates, totalling 9 fits\n",
      "Fitting 3 folds for each of 3 candidates, totalling 9 fits\n",
      "Proposals\n",
      "###\n",
      "number = 1\n",
      "actions =  74\n",
      "proposal =  [2.4 3.2]\n",
      "###\n",
      "###\n",
      "number = 2\n",
      "actions =  119\n",
      "proposal =  [4.  3.6]\n",
      "###\n",
      "###\n",
      "number = 3\n",
      "actions =  118\n",
      "proposal =  [4.  3.2]\n",
      "###\n",
      "###\n",
      "number = 4\n",
      "actions =  51\n",
      "proposal =  [1.6 2.8]\n",
      "###\n",
      "###\n",
      "number = 5\n",
      "actions =  32\n",
      "proposal =  [0.8 4. ]\n",
      "###\n",
      "Finish selection of proposals!\n",
      "proposed condition = [2.4, 3.2]\n",
      "proposed condition = [4.0, 3.6]\n",
      "proposed condition = [4.0, 3.2]\n",
      "proposed condition = [1.6, 2.8]\n",
      "proposed condition = [0.8, 4.0]\n",
      "objective function value = 16.0\n",
      "objective function value = 28.96\n",
      "objective function value = 26.24\n",
      "objective function value = 10.4\n",
      "objective function value = 16.64\n",
      "Start update candidates file!\n",
      "Finish update candidates file!\n"
     ]
    }
   ],
   "source": [
    "nimo.selection(method = \"BLOX\",\n",
    "            input_file = \"candidates.csv\",\n",
    "            output_file = \"proposals.csv\",\n",
    "            num_objectives = 1,\n",
    "            num_proposals = 5)\n",
    "\n",
    "conditions = nimo.proposed_conditions(input_file = \"proposals.csv\")\n",
    "\n",
    "for i in range(len(conditions)):\n",
    "    print(\"proposed condition =\", conditions[i])\n",
    "\n",
    "y = []\n",
    "\n",
    "for i in range(len(conditions)):\n",
    "\n",
    "    x1 = conditions[i][0]\n",
    "    x2 = conditions[i][1]\n",
    "\n",
    "    y.append(round(( x1 * x1 + x2 * x2 ), 6))\n",
    "\n",
    "    print(\"objective function value =\", y[i])\n",
    "\n",
    "nimo.output_update(input_file = \"proposals.csv\",\n",
    "                output_file = \"candidates.csv\",\n",
    "                num_objectives = 1,\n",
    "                objective_values = y)\n",
    "\n",
    "res_history = nimo.history(input_file = \"candidates.csv\",\n",
    "                                 num_objectives = 1,\n",
    "                                 itt = 2,\n",
    "                                 history_file = res_history)"
   ]
  },
  {
   "cell_type": "markdown",
   "id": "ba3ec758-8e7b-430d-9888-273c671a490a",
   "metadata": {},
   "source": [
    "## 4th loop 実験条件をBLOXにより複数提案"
   ]
  },
  {
   "cell_type": "code",
   "execution_count": 10,
   "id": "3f91940e-64d5-491d-be6e-560dfeb0c7de",
   "metadata": {},
   "outputs": [
    {
     "name": "stdout",
     "output_type": "stream",
     "text": [
      "Start selection of proposals by BLOX!\n",
      "Fitting 3 folds for each of 3 candidates, totalling 9 fits\n",
      "Fitting 3 folds for each of 3 candidates, totalling 9 fits\n",
      "Fitting 3 folds for each of 3 candidates, totalling 9 fits\n",
      "Fitting 3 folds for each of 3 candidates, totalling 9 fits\n",
      "Fitting 3 folds for each of 3 candidates, totalling 9 fits\n",
      "Proposals\n",
      "###\n",
      "number = 1\n",
      "actions =  86\n",
      "proposal =  [2.8 3.6]\n",
      "###\n",
      "###\n",
      "number = 2\n",
      "actions =  41\n",
      "proposal =  [1.2 3.2]\n",
      "###\n",
      "###\n",
      "number = 3\n",
      "actions =  97\n",
      "proposal =  [3.2 3.6]\n",
      "###\n",
      "###\n",
      "number = 4\n",
      "actions =  68\n",
      "proposal =  [2.4 0.8]\n",
      "###\n",
      "###\n",
      "number = 5\n",
      "actions =  73\n",
      "proposal =  [2.4 2.8]\n",
      "###\n",
      "Finish selection of proposals!\n",
      "proposed condition = [2.8, 3.6]\n",
      "proposed condition = [1.2, 3.2]\n",
      "proposed condition = [3.2, 3.6]\n",
      "proposed condition = [2.4, 0.8]\n",
      "proposed condition = [2.4, 2.8]\n",
      "objective function value = 20.8\n",
      "objective function value = 11.68\n",
      "objective function value = 23.2\n",
      "objective function value = 6.4\n",
      "objective function value = 13.6\n",
      "Start update candidates file!\n",
      "Finish update candidates file!\n"
     ]
    }
   ],
   "source": [
    "nimo.selection(method = \"BLOX\",\n",
    "            input_file = \"candidates.csv\",\n",
    "            output_file = \"proposals.csv\",\n",
    "            num_objectives = 1,\n",
    "            num_proposals = 5)\n",
    "\n",
    "conditions = nimo.proposed_conditions(input_file = \"proposals.csv\")\n",
    "\n",
    "for i in range(len(conditions)):\n",
    "    print(\"proposed condition =\", conditions[i])\n",
    "\n",
    "y = []\n",
    "\n",
    "for i in range(len(conditions)):\n",
    "\n",
    "    x1 = conditions[i][0]\n",
    "    x2 = conditions[i][1]\n",
    "\n",
    "    y.append(round(( x1 * x1 + x2 * x2 ), 6))\n",
    "\n",
    "    print(\"objective function value =\", y[i])\n",
    "\n",
    "nimo.output_update(input_file = \"proposals.csv\",\n",
    "                output_file = \"candidates.csv\",\n",
    "                num_objectives = 1,\n",
    "                objective_values = y)\n",
    "\n",
    "res_history = nimo.history(input_file = \"candidates.csv\",\n",
    "                                 num_objectives = 1,\n",
    "                                 itt = 3,\n",
    "                                 history_file = res_history)"
   ]
  },
  {
   "cell_type": "markdown",
   "id": "985d3132-fc88-4805-9b91-85784909d6c7",
   "metadata": {},
   "source": [
    "## 5th loop 実験条件をBLOXにより複数提案"
   ]
  },
  {
   "cell_type": "code",
   "execution_count": 11,
   "id": "d9ac9872-2c99-4aff-9ee4-a3acc25820bd",
   "metadata": {},
   "outputs": [
    {
     "name": "stdout",
     "output_type": "stream",
     "text": [
      "Start selection of proposals by BLOX!\n",
      "Fitting 3 folds for each of 3 candidates, totalling 9 fits\n",
      "Fitting 3 folds for each of 3 candidates, totalling 9 fits\n",
      "Fitting 3 folds for each of 3 candidates, totalling 9 fits\n",
      "Fitting 3 folds for each of 3 candidates, totalling 9 fits\n",
      "Fitting 3 folds for each of 3 candidates, totalling 9 fits\n",
      "Proposals\n",
      "###\n",
      "number = 1\n",
      "actions =  107\n",
      "proposal =  [3.6 3.2]\n",
      "###\n",
      "###\n",
      "number = 2\n",
      "actions =  109\n",
      "proposal =  [3.6 4. ]\n",
      "###\n",
      "###\n",
      "number = 3\n",
      "actions =  30\n",
      "proposal =  [0.8 3.2]\n",
      "###\n",
      "###\n",
      "number = 4\n",
      "actions =  38\n",
      "proposal =  [1.2 2. ]\n",
      "###\n",
      "###\n",
      "number = 5\n",
      "actions =  115\n",
      "proposal =  [4. 2.]\n",
      "###\n",
      "Finish selection of proposals!\n",
      "proposed condition = [3.6, 3.2]\n",
      "proposed condition = [3.6, 4.0]\n",
      "proposed condition = [0.8, 3.2]\n",
      "proposed condition = [1.2, 2.0]\n",
      "proposed condition = [4.0, 2.0]\n",
      "objective function value = 23.2\n",
      "objective function value = 28.96\n",
      "objective function value = 10.88\n",
      "objective function value = 5.44\n",
      "objective function value = 20.0\n",
      "Start update candidates file!\n",
      "Finish update candidates file!\n"
     ]
    }
   ],
   "source": [
    "nimo.selection(method = \"BLOX\",\n",
    "            input_file = \"candidates.csv\",\n",
    "            output_file = \"proposals.csv\",\n",
    "            num_objectives = 1,\n",
    "            num_proposals = 5)\n",
    "\n",
    "conditions = nimo.proposed_conditions(input_file = \"proposals.csv\")\n",
    "\n",
    "for i in range(len(conditions)):\n",
    "    print(\"proposed condition =\", conditions[i])\n",
    "\n",
    "y = []\n",
    "\n",
    "for i in range(len(conditions)):\n",
    "\n",
    "    x1 = conditions[i][0]\n",
    "    x2 = conditions[i][1]\n",
    "\n",
    "    y.append(round(( x1 * x1 + x2 * x2 ), 6))\n",
    "\n",
    "    print(\"objective function value =\", y[i])\n",
    "\n",
    "nimo.output_update(input_file = \"proposals.csv\",\n",
    "                output_file = \"candidates.csv\",\n",
    "                num_objectives = 1,\n",
    "                objective_values = y)\n",
    "\n",
    "res_history = nimo.history(input_file = \"candidates.csv\",\n",
    "                                 num_objectives = 1,\n",
    "                                 itt = 4,\n",
    "                                 history_file = res_history)"
   ]
  },
  {
   "cell_type": "markdown",
   "id": "b95c4225-ba55-455e-bf6c-a07f69daee35",
   "metadata": {},
   "source": [
    "### 目的関数の推移を出力"
   ]
  },
  {
   "cell_type": "code",
   "execution_count": 12,
   "id": "49608dec-6e30-4f64-a6ab-be8f9d75f3fa",
   "metadata": {},
   "outputs": [],
   "source": [
    "nimo.visualization.plot_history.cycle(input_file = res_history,\n",
    "                                      num_cycles = 5,\n",
    "                                      fig_folder = \"./\")"
   ]
  },
  {
   "cell_type": "code",
   "execution_count": null,
   "id": "f8f6a888-0508-42e1-aaa2-fc17b30a35d0",
   "metadata": {},
   "outputs": [],
   "source": []
  }
 ],
 "metadata": {
  "kernelspec": {
   "display_name": "Python 3 (ipykernel)",
   "language": "python",
   "name": "python3"
  },
  "language_info": {
   "codemirror_mode": {
    "name": "ipython",
    "version": 3
   },
   "file_extension": ".py",
   "mimetype": "text/x-python",
   "name": "python",
   "nbconvert_exporter": "python",
   "pygments_lexer": "ipython3",
   "version": "3.12.8"
  }
 },
 "nbformat": 4,
 "nbformat_minor": 5
}
